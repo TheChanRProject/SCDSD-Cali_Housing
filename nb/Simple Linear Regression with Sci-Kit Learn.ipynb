{
 "cells": [
  {
   "cell_type": "markdown",
   "metadata": {},
   "source": [
    "# Linear Regression with Sci-Kit Learn "
   ]
  },
  {
   "cell_type": "code",
   "execution_count": 6,
   "metadata": {},
   "outputs": [],
   "source": [
    "import numpy as np\n",
    "import pandas as pd \n",
    "import matplotlib.pyplot as plt \n",
    "%matplotlib inline\n",
    "import seaborn as sns \n",
    "from jupyterthemes import jtplot\n",
    "from sklearn.linear_model import LinearRegression \n",
    "from sklearn.model_selection import train_test_split\n",
    "from sklearn.metrics import mean_squared_error, r2_score "
   ]
  },
  {
   "cell_type": "markdown",
   "metadata": {},
   "source": [
    "## Getting the Data "
   ]
  },
  {
   "cell_type": "code",
   "execution_count": null,
   "metadata": {},
   "outputs": [],
   "source": [
    "data = pd.read_csv(\"../data/reg_demo_data.csv\")\n",
    "data.head() \n",
    "# Let's remove the unnamed column \n",
    "data.drop(list(data.columns)[0], axis=1, inplace=True) \n",
    "data.head() \n",
    "\n",
    "# Let's go straight into the linear regression model \n",
    "\n",
    "## First we need to split the dataset into training and testing sets \n",
    "\n",
    "X = np.array(data['x']).reshape(-1,1)\n",
    "Y = np.array(data['y']).reshape(-1,1) \n",
    "\n",
    "X_train, X_test, Y_train, Y_test = train_test_split(X,Y,test_size=0.2, random_state = 5)\n",
    "model = LinearRegression()\n",
    "model.fit(X_train, Y_train)\n",
    "Y_pred = model.predict(X_train) \n",
    "\n",
    "# Plotting the Regression Plot \n",
    "\n",
    "plt.figure(figsize=(12,8))\n",
    "plt.scatter(X_train,Y_train) \n",
    "plt.plot(X_train, Y_pred)\n",
    "plt.title(\"Regression Plot\", size=30)\n",
    "plt.xlabel(r\"$\\degree F$\", size=24)\n",
    "plt.ylabel(r\"$\\degree C$\", size=24)\n",
    "plt.savefig(\"../images/sk-regplot_2.png\") \n",
    "\n"
   ]
  },
  {
   "cell_type": "code",
   "execution_count": null,
   "metadata": {},
   "outputs": [],
   "source": []
  }
 ],
 "metadata": {
  "kernelspec": {
   "display_name": "Python 3",
   "language": "python",
   "name": "python3"
  },
  "language_info": {
   "codemirror_mode": {
    "name": "ipython",
    "version": 3
   },
   "file_extension": ".py",
   "mimetype": "text/x-python",
   "name": "python",
   "nbconvert_exporter": "python",
   "pygments_lexer": "ipython3",
   "version": "3.6.8"
  },
  "nbTranslate": {
   "displayLangs": [
    "*"
   ],
   "hotkey": "alt-t",
   "langInMainMenu": true,
   "sourceLang": "en",
   "targetLang": "fr",
   "useGoogleTranslate": true
  }
 },
 "nbformat": 4,
 "nbformat_minor": 2
}
